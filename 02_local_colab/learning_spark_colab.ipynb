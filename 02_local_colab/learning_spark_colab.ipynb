{
 "cells": [
  {
   "cell_type": "code",
   "execution_count": null,
   "outputs": [],
   "source": [
    "from google.colab import drive\n",
    "drive.mount(\"/drive\")"
   ],
   "metadata": {
    "collapsed": false,
    "pycharm": {
     "name": "#%%\n"
    }
   }
  },
  {
   "cell_type": "code",
   "execution_count": null,
   "outputs": [],
   "source": [
    "file_path = \"/drive/My Drive/AI/OC/P8/text.txt\""
   ],
   "metadata": {
    "collapsed": false,
    "pycharm": {
     "name": "#%%\n"
    }
   }
  },
  {
   "cell_type": "code",
   "execution_count": null,
   "outputs": [],
   "source": [
    "with open(file_path) as file:\n",
    "    for item in file:\n",
    "        print(item)"
   ],
   "metadata": {
    "collapsed": false,
    "pycharm": {
     "name": "#%%\n"
    }
   }
  },
  {
   "cell_type": "code",
   "execution_count": null,
   "outputs": [],
   "source": [
    "!pip install pyspark"
   ],
   "metadata": {
    "collapsed": false,
    "pycharm": {
     "name": "#%%\n"
    }
   }
  },
  {
   "cell_type": "code",
   "execution_count": null,
   "outputs": [],
   "source": [
    "from pyspark import SparkContext\n",
    "\n",
    "# Instantiation d'un SparkContext\n",
    "sc = SparkContext()"
   ],
   "metadata": {
    "collapsed": false,
    "pycharm": {
     "name": "#%%\n"
    }
   }
  },
  {
   "cell_type": "code",
   "execution_count": null,
   "outputs": [],
   "source": [
    "# Lecture d'un fichier texte : le fichier est décomposé en lignes.\n",
    "lines = sc.textFile(file_path)"
   ],
   "metadata": {
    "collapsed": false,
    "pycharm": {
     "name": "#%%\n"
    }
   }
  },
  {
   "cell_type": "code",
   "source": [
    "from pyspark import SparkContext\n",
    "\n",
    "# Instantiation d'un SparkContext\n",
    "sc = SparkContext()"
   ],
   "metadata": {
    "id": "sZ3_w3Jlyssd",
    "executionInfo": {
     "status": "ok",
     "timestamp": 1677250121813,
     "user_tz": -60,
     "elapsed": 11680,
     "user": {
      "displayName": "Oumeima El Gharbi",
      "userId": "06949139605842949138"
     }
    }
   },
   "execution_count": 9,
   "outputs": []
  },
  {
   "cell_type": "code",
   "source": [
    "# Lecture d'un fichier texte : le fichier est décomposé en lignes.\n",
    "lines = sc.textFile(file_path)"
   ],
   "metadata": {
    "id": "3oO8b4yB111b",
    "executionInfo": {
     "status": "ok",
     "timestamp": 1677250144504,
     "user_tz": -60,
     "elapsed": 1639,
     "user": {
      "displayName": "Oumeima El Gharbi",
      "userId": "06949139605842949138"
     }
    }
   },
   "execution_count": 10,
   "outputs": []
  },
  {
   "cell_type": "code",
   "source": [
    "# Décomposition de chaque ligne en mots\n",
    "\n",
    "\n",
    "# Chacun des mots est transformé en une clé-valeur\n",
    "# Les valeurs associées à chaques clé sont sommées\n",
    "word_counts = lines.flatMap(lambda line: line.split(' ')).map(lambda word: (word, 1)).reduceByKey(lambda count1, count2: count1 + count2).collect()  # Le résultat est récupéré\n",
    "\n",
    "# Chaque paire (clé, valeur) est affichée\n",
    "for (word, count) in word_counts:\n",
    "    print(word, count)\n"
   ],
   "metadata": {
    "id": "cseUg3PM1yYY",
    "colab": {
     "base_uri": "https://localhost:8080/"
    },
    "executionInfo": {
     "status": "ok",
     "timestamp": 1677250152176,
     "user_tz": -60,
     "elapsed": 3777,
     "user": {
      "displayName": "Oumeima El Gharbi",
      "userId": "06949139605842949138"
     }
    },
    "outputId": "b0082dd3-c665-4029-8d46-6e9d4a15f886"
   },
   "execution_count": 11,
   "outputs": [
    {
     "output_type": "stream",
     "name": "stdout",
     "text": [
      "Le 3\n",
      "sur 4\n",
      "les 3\n",
      "trottoirs 1\n",
      "ruelles 1\n",
      "faire 1\n",
      "à 3\n",
      "tous 1\n",
      "que 1\n",
      "tour 1\n",
      "D'assumer 1\n",
      "rêves, 1\n",
      "d'en 1\n",
      "pour 2\n",
      "dans 1\n",
      "même 1\n",
      "si 2\n",
      "ça 1\n",
      "ouvrira 1\n",
      "grand 1\n",
      "fait 2\n",
      "nuit 1\n",
      "longtemps 1\n",
      "avancer 1\n",
      "sans 1\n",
      "nous 1\n",
      "Personne 1\n",
      "est 1\n",
      "juste 1\n",
      "pas 1\n",
      "en 1\n",
      "qu'elle 1\n",
      "avait 1\n",
      "s'est 1\n",
      "armé 1\n",
      "stylos 1\n",
      "nous-mêmes 1\n",
      "suite 1\n",
      "cette 1\n",
      "jour 3\n",
      "se 3\n",
      "lève 3\n",
      "notre 3\n",
      "grisaille, 1\n",
      "de 7\n",
      "nos 5\n",
      "et 3\n",
      "tours 1\n",
      "envie 1\n",
      "vous 1\n",
      "comprendre 1\n",
      "c'est 2\n",
      "récolter 1\n",
      "la 4\n",
      "sève 1\n",
      "graver 1\n",
      "chaque 1\n",
      "mur 1\n",
      "pierre 1\n",
      "brûles 1\n",
      "yeux, 1\n",
      "on 2\n",
      "paupières 1\n",
      "Il 1\n",
      "a 4\n",
      "trop 1\n",
      "lumière 1\n",
      "souvent 1\n",
      "tâtonner 1\n",
      "pardonner, 1\n",
      "là 1\n",
      "aujourd'hui 1\n",
      "qu'on 1\n",
      "abandonné 1\n",
      "On 2\n",
      "cherché 1\n",
      "lueur 1\n",
      "l'aube 1\n",
      "sachant 1\n",
      "couleur 1\n",
      "l'espoir 1\n",
      "écrire 1\n",
      "toute 1\n",
      "histoire 1\n"
     ]
    }
   ]
  }
 ],
 "metadata": {
  "kernelspec": {
   "display_name": "Python 3",
   "language": "python",
   "name": "python3"
  },
  "language_info": {
   "codemirror_mode": {
    "name": "ipython",
    "version": 2
   },
   "file_extension": ".py",
   "mimetype": "text/x-python",
   "name": "python",
   "nbconvert_exporter": "python",
   "pygments_lexer": "ipython2",
   "version": "2.7.6"
  },
  "colab": {
   "provenance": []
  }
 },
 "nbformat": 4,
 "nbformat_minor": 0
}